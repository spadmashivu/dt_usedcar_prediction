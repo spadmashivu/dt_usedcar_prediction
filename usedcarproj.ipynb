{
 "cells": [
  {
   "cell_type": "code",
   "execution_count": 1,
   "id": "ea25a384",
   "metadata": {},
   "outputs": [],
   "source": [
    "import datetime\n",
    "\n",
    "import numpy as np\n",
    "import pandas as pd\n",
    "\n",
    "import matplotlib.pyplot as plt\n",
    "import seaborn as sns\n",
    "%matplotlib inline\n",
    "\n",
    "from sklearn.model_selection import train_test_split\n",
    "from sklearn.linear_model import LinearRegression\n",
    "from sklearn.ensemble import RandomForestRegressor\n",
    "from sklearn.preprocessing import StandardScaler\n",
    "from sklearn.metrics import r2_score\n",
    "import seaborn as sns\n",
    "import warnings\n",
    "warnings.filterwarnings('ignore')\n",
    "sns.set_theme()\n"
   ]
  },
  {
   "cell_type": "code",
   "execution_count": 3,
   "id": "5e447742",
   "metadata": {},
   "outputs": [
    {
     "data": {
      "text/html": [
       "<div>\n",
       "<style scoped>\n",
       "    .dataframe tbody tr th:only-of-type {\n",
       "        vertical-align: middle;\n",
       "    }\n",
       "\n",
       "    .dataframe tbody tr th {\n",
       "        vertical-align: top;\n",
       "    }\n",
       "\n",
       "    .dataframe thead th {\n",
       "        text-align: right;\n",
       "    }\n",
       "</style>\n",
       "<table border=\"1\" class=\"dataframe\">\n",
       "  <thead>\n",
       "    <tr style=\"text-align: right;\">\n",
       "      <th></th>\n",
       "      <th>id</th>\n",
       "      <th>price</th>\n",
       "      <th>mark</th>\n",
       "      <th>model</th>\n",
       "      <th>year</th>\n",
       "      <th>mileage</th>\n",
       "      <th>engine_capacity</th>\n",
       "      <th>transmission</th>\n",
       "      <th>drive</th>\n",
       "      <th>hand_drive</th>\n",
       "      <th>fuel</th>\n",
       "    </tr>\n",
       "  </thead>\n",
       "  <tbody>\n",
       "    <tr>\n",
       "      <th>0</th>\n",
       "      <td>0</td>\n",
       "      <td>80</td>\n",
       "      <td>nissan</td>\n",
       "      <td>march</td>\n",
       "      <td>2003</td>\n",
       "      <td>80000</td>\n",
       "      <td>1240</td>\n",
       "      <td>at</td>\n",
       "      <td>2wd</td>\n",
       "      <td>rhd</td>\n",
       "      <td>gasoline</td>\n",
       "    </tr>\n",
       "    <tr>\n",
       "      <th>1</th>\n",
       "      <td>1</td>\n",
       "      <td>110</td>\n",
       "      <td>nissan</td>\n",
       "      <td>march</td>\n",
       "      <td>2010</td>\n",
       "      <td>53000</td>\n",
       "      <td>1200</td>\n",
       "      <td>at</td>\n",
       "      <td>2wd</td>\n",
       "      <td>rhd</td>\n",
       "      <td>gasoline</td>\n",
       "    </tr>\n",
       "    <tr>\n",
       "      <th>2</th>\n",
       "      <td>2</td>\n",
       "      <td>165</td>\n",
       "      <td>nissan</td>\n",
       "      <td>lafesta</td>\n",
       "      <td>2005</td>\n",
       "      <td>47690</td>\n",
       "      <td>2000</td>\n",
       "      <td>at</td>\n",
       "      <td>2wd</td>\n",
       "      <td>rhd</td>\n",
       "      <td>gasoline</td>\n",
       "    </tr>\n",
       "    <tr>\n",
       "      <th>3</th>\n",
       "      <td>3</td>\n",
       "      <td>190</td>\n",
       "      <td>toyota</td>\n",
       "      <td>avensis</td>\n",
       "      <td>2008</td>\n",
       "      <td>130661</td>\n",
       "      <td>1990</td>\n",
       "      <td>at</td>\n",
       "      <td>2wd</td>\n",
       "      <td>rhd</td>\n",
       "      <td>gasoline</td>\n",
       "    </tr>\n",
       "    <tr>\n",
       "      <th>4</th>\n",
       "      <td>4</td>\n",
       "      <td>190</td>\n",
       "      <td>daihatsu</td>\n",
       "      <td>mira</td>\n",
       "      <td>2006</td>\n",
       "      <td>66300</td>\n",
       "      <td>660</td>\n",
       "      <td>at</td>\n",
       "      <td>2wd</td>\n",
       "      <td>rhd</td>\n",
       "      <td>gasoline</td>\n",
       "    </tr>\n",
       "  </tbody>\n",
       "</table>\n",
       "</div>"
      ],
      "text/plain": [
       "   id  price      mark    model  year  mileage  engine_capacity transmission  \\\n",
       "0   0     80    nissan    march  2003    80000             1240           at   \n",
       "1   1    110    nissan    march  2010    53000             1200           at   \n",
       "2   2    165    nissan  lafesta  2005    47690             2000           at   \n",
       "3   3    190    toyota  avensis  2008   130661             1990           at   \n",
       "4   4    190  daihatsu     mira  2006    66300              660           at   \n",
       "\n",
       "  drive hand_drive      fuel  \n",
       "0   2wd        rhd  gasoline  \n",
       "1   2wd        rhd  gasoline  \n",
       "2   2wd        rhd  gasoline  \n",
       "3   2wd        rhd  gasoline  \n",
       "4   2wd        rhd  gasoline  "
      ]
     },
     "execution_count": 3,
     "metadata": {},
     "output_type": "execute_result"
    }
   ],
   "source": [
    "dataset = pd.read_csv(\"japan_used_cars_datasets.csv\")\n",
    "dataset.head(5)\n"
   ]
  },
  {
   "cell_type": "markdown",
   "id": "252c1803",
   "metadata": {},
   "source": [
    "The car features are names of the car, price of the car, production year, miles travelled, engine and transmission types"
   ]
  },
  {
   "cell_type": "code",
   "execution_count": 12,
   "id": "fb7fde25",
   "metadata": {},
   "outputs": [
    {
     "data": {
      "text/plain": [
       "(2318, 11)"
      ]
     },
     "execution_count": 12,
     "metadata": {},
     "output_type": "execute_result"
    }
   ],
   "source": [
    "#get the shape of the data\n",
    "dataset.shape"
   ]
  },
  {
   "cell_type": "code",
   "execution_count": 14,
   "id": "58edbd9b",
   "metadata": {},
   "outputs": [
    {
     "data": {
      "text/html": [
       "<div>\n",
       "<style scoped>\n",
       "    .dataframe tbody tr th:only-of-type {\n",
       "        vertical-align: middle;\n",
       "    }\n",
       "\n",
       "    .dataframe tbody tr th {\n",
       "        vertical-align: top;\n",
       "    }\n",
       "\n",
       "    .dataframe thead th {\n",
       "        text-align: right;\n",
       "    }\n",
       "</style>\n",
       "<table border=\"1\" class=\"dataframe\">\n",
       "  <thead>\n",
       "    <tr style=\"text-align: right;\">\n",
       "      <th></th>\n",
       "      <th>id</th>\n",
       "      <th>price</th>\n",
       "      <th>year</th>\n",
       "      <th>mileage</th>\n",
       "      <th>engine_capacity</th>\n",
       "    </tr>\n",
       "  </thead>\n",
       "  <tbody>\n",
       "    <tr>\n",
       "      <th>count</th>\n",
       "      <td>2318.000000</td>\n",
       "      <td>2318.000000</td>\n",
       "      <td>2318.000000</td>\n",
       "      <td>2318.000000</td>\n",
       "      <td>2318.000000</td>\n",
       "    </tr>\n",
       "    <tr>\n",
       "      <th>mean</th>\n",
       "      <td>1169.047023</td>\n",
       "      <td>971.522433</td>\n",
       "      <td>2005.972390</td>\n",
       "      <td>100013.194996</td>\n",
       "      <td>1507.010785</td>\n",
       "    </tr>\n",
       "    <tr>\n",
       "      <th>std</th>\n",
       "      <td>674.460724</td>\n",
       "      <td>288.673112</td>\n",
       "      <td>3.698863</td>\n",
       "      <td>52512.478883</td>\n",
       "      <td>549.585170</td>\n",
       "    </tr>\n",
       "    <tr>\n",
       "      <th>min</th>\n",
       "      <td>0.000000</td>\n",
       "      <td>80.000000</td>\n",
       "      <td>1979.000000</td>\n",
       "      <td>2000.000000</td>\n",
       "      <td>9.000000</td>\n",
       "    </tr>\n",
       "    <tr>\n",
       "      <th>25%</th>\n",
       "      <td>583.250000</td>\n",
       "      <td>776.000000</td>\n",
       "      <td>2004.000000</td>\n",
       "      <td>67000.000000</td>\n",
       "      <td>1300.000000</td>\n",
       "    </tr>\n",
       "    <tr>\n",
       "      <th>50%</th>\n",
       "      <td>1168.500000</td>\n",
       "      <td>1000.000000</td>\n",
       "      <td>2006.000000</td>\n",
       "      <td>94000.000000</td>\n",
       "      <td>1490.000000</td>\n",
       "    </tr>\n",
       "    <tr>\n",
       "      <th>75%</th>\n",
       "      <td>1753.750000</td>\n",
       "      <td>1213.000000</td>\n",
       "      <td>2009.000000</td>\n",
       "      <td>124000.000000</td>\n",
       "      <td>1800.000000</td>\n",
       "    </tr>\n",
       "    <tr>\n",
       "      <th>max</th>\n",
       "      <td>2335.000000</td>\n",
       "      <td>1400.000000</td>\n",
       "      <td>2015.000000</td>\n",
       "      <td>790000.000000</td>\n",
       "      <td>12340.000000</td>\n",
       "    </tr>\n",
       "  </tbody>\n",
       "</table>\n",
       "</div>"
      ],
      "text/plain": [
       "                id        price         year        mileage  engine_capacity\n",
       "count  2318.000000  2318.000000  2318.000000    2318.000000      2318.000000\n",
       "mean   1169.047023   971.522433  2005.972390  100013.194996      1507.010785\n",
       "std     674.460724   288.673112     3.698863   52512.478883       549.585170\n",
       "min       0.000000    80.000000  1979.000000    2000.000000         9.000000\n",
       "25%     583.250000   776.000000  2004.000000   67000.000000      1300.000000\n",
       "50%    1168.500000  1000.000000  2006.000000   94000.000000      1490.000000\n",
       "75%    1753.750000  1213.000000  2009.000000  124000.000000      1800.000000\n",
       "max    2335.000000  1400.000000  2015.000000  790000.000000     12340.000000"
      ]
     },
     "execution_count": 14,
     "metadata": {},
     "output_type": "execute_result"
    }
   ],
   "source": [
    "#get the statistical description of the float columns\n",
    "dataset.describe()"
   ]
  },
  {
   "cell_type": "code",
   "execution_count": 15,
   "id": "a4a21dbc",
   "metadata": {},
   "outputs": [
    {
     "name": "stdout",
     "output_type": "stream",
     "text": [
      "<class 'pandas.core.frame.DataFrame'>\n",
      "RangeIndex: 2318 entries, 0 to 2317\n",
      "Data columns (total 11 columns):\n",
      " #   Column           Non-Null Count  Dtype \n",
      "---  ------           --------------  ----- \n",
      " 0   id               2318 non-null   int64 \n",
      " 1   price            2318 non-null   int64 \n",
      " 2   mark             2318 non-null   object\n",
      " 3   model            2318 non-null   object\n",
      " 4   year             2318 non-null   int64 \n",
      " 5   mileage          2318 non-null   int64 \n",
      " 6   engine_capacity  2318 non-null   int64 \n",
      " 7   transmission     2318 non-null   object\n",
      " 8   drive            2318 non-null   object\n",
      " 9   hand_drive       2318 non-null   object\n",
      " 10  fuel             2318 non-null   object\n",
      "dtypes: int64(5), object(6)\n",
      "memory usage: 199.3+ KB\n"
     ]
    }
   ],
   "source": [
    "dataset.info()"
   ]
  },
  {
   "cell_type": "code",
   "execution_count": 16,
   "id": "67725f6f",
   "metadata": {
    "scrolled": true
   },
   "outputs": [
    {
     "data": {
      "text/plain": [
       "id                 0\n",
       "price              0\n",
       "mark               0\n",
       "model              0\n",
       "year               0\n",
       "mileage            0\n",
       "engine_capacity    0\n",
       "transmission       0\n",
       "drive              0\n",
       "hand_drive         0\n",
       "fuel               0\n",
       "dtype: int64"
      ]
     },
     "execution_count": 16,
     "metadata": {},
     "output_type": "execute_result"
    }
   ],
   "source": [
    "dataset.isnull().sum()"
   ]
  },
  {
   "cell_type": "markdown",
   "id": "20356ec8",
   "metadata": {},
   "source": [
    "There are no missing values That is a very small number so we need to check the column to see how we can clean it"
   ]
  },
  {
   "cell_type": "code",
   "execution_count": 17,
   "id": "ee2d7e50",
   "metadata": {},
   "outputs": [
    {
     "data": {
      "text/plain": [
       "(2318, 11)"
      ]
     },
     "execution_count": 17,
     "metadata": {},
     "output_type": "execute_result"
    }
   ],
   "source": [
    "dataset.shape"
   ]
  },
  {
   "cell_type": "markdown",
   "id": "7bf28bb5",
   "metadata": {},
   "source": [
    "NAME\n",
    "We will extract the name of the car manufacturers from the name column\n",
    "\n"
   ]
  },
  {
   "cell_type": "code",
   "execution_count": 20,
   "id": "730f6bf2",
   "metadata": {},
   "outputs": [
    {
     "data": {
      "text/plain": [
       "0      nissan\n",
       "1      nissan\n",
       "2      nissan\n",
       "3      toyota\n",
       "4    daihatsu\n",
       "Name: manufacturer, dtype: object"
      ]
     },
     "execution_count": 20,
     "metadata": {},
     "output_type": "execute_result"
    }
   ],
   "source": [
    "dataset['manufacturer'] = dataset['mark'].apply(lambda x: x.split(' ')[0])\n",
    "dataset['manufacturer'].head()"
   ]
  },
  {
   "cell_type": "code",
   "execution_count": 21,
   "id": "e7018f66",
   "metadata": {},
   "outputs": [
    {
     "data": {
      "text/plain": [
       "28"
      ]
     },
     "execution_count": 21,
     "metadata": {},
     "output_type": "execute_result"
    }
   ],
   "source": [
    "dataset.manufacturer.nunique()"
   ]
  },
  {
   "cell_type": "code",
   "execution_count": 22,
   "id": "79030c12",
   "metadata": {},
   "outputs": [
    {
     "data": {
      "text/plain": [
       "array(['nissan', 'toyota', 'daihatsu', 'volkswagen', 'mazda', 'honda',\n",
       "       'subaru', 'mercedes-benz', 'kubota', 'mitsubishi', 'suzuki', 'bmw',\n",
       "       'chrysler', 'smart', 'gm', 'opel', 'isuzu', 'land', 'peugeot',\n",
       "       'hyundai', 'kia', 'audi', 'citroen', 'mitsuoka', 'volvo', 'ford',\n",
       "       'hino', 'jaguar'], dtype=object)"
      ]
     },
     "execution_count": 22,
     "metadata": {},
     "output_type": "execute_result"
    }
   ],
   "source": [
    "dataset.manufacturer.unique()"
   ]
  },
  {
   "cell_type": "markdown",
   "id": "8c823b8b",
   "metadata": {},
   "source": [
    "We will clean these data by making similar maufacturers uniform."
   ]
  },
  {
   "cell_type": "code",
   "execution_count": 23,
   "id": "7f0cb43c",
   "metadata": {},
   "outputs": [
    {
     "name": "stdout",
     "output_type": "stream",
     "text": [
      "['nissan' 'toyota' 'daihatsu' 'volkswagen' 'mazda' 'honda' 'subaru'\n",
      " 'mercedes-benz' 'kubota' 'mitsubishi' 'suzuki' 'bmw' 'chrysler' 'smart'\n",
      " 'gm' 'opel' 'isuzu' 'land' 'peugeot' 'hyundai' 'kia' 'audi' 'citroen'\n",
      " 'mitsuoka' 'volvo' 'ford' 'hino' 'jaguar']\n",
      "\n",
      "\n",
      "There are 28 different car manufacturers in the dataset\n"
     ]
    }
   ],
   "source": [
    "print(dataset.manufacturer.unique())\n",
    "print('\\n')\n",
    "print('There are ' + str(dataset.manufacturer.nunique()) + ' different car manufacturers in the dataset')\n"
   ]
  },
  {
   "cell_type": "markdown",
   "id": "28facad1",
   "metadata": {},
   "source": [
    "# price"
   ]
  },
  {
   "cell_type": "code",
   "execution_count": 25,
   "id": "a5c0d8ae",
   "metadata": {},
   "outputs": [
    {
     "data": {
      "text/plain": [
       "0     80\n",
       "1    110\n",
       "2    165\n",
       "3    190\n",
       "4    190\n",
       "Name: price, dtype: int64"
      ]
     },
     "execution_count": 25,
     "metadata": {},
     "output_type": "execute_result"
    }
   ],
   "source": [
    "#dataset['price'] = dataset['price'].str.replace(',', '').str.replace('', '£').astype(np.int64)\n",
    "dataset['price'].head()"
   ]
  },
  {
   "cell_type": "markdown",
   "id": "a7486232",
   "metadata": {},
   "source": [
    "YEAR\n",
    "We can't work with the year column like that, we have to convert it to age so that it will be easy to understand"
   ]
  },
  {
   "cell_type": "code",
   "execution_count": 26,
   "id": "4c3a2784",
   "metadata": {},
   "outputs": [],
   "source": [
    "#convert the year column to integer\n",
    "dataset['year']=dataset['year'].astype(str).astype(np.int64)"
   ]
  },
  {
   "cell_type": "code",
   "execution_count": 27,
   "id": "97a7ddb4",
   "metadata": {},
   "outputs": [],
   "source": [
    "Current_Year = 2022"
   ]
  },
  {
   "cell_type": "code",
   "execution_count": 28,
   "id": "9421dc6f",
   "metadata": {},
   "outputs": [],
   "source": [
    "dataset['age'] = Current_Year - dataset['year']"
   ]
  },
  {
   "cell_type": "code",
   "execution_count": 29,
   "id": "5a05be1b",
   "metadata": {},
   "outputs": [],
   "source": [
    "dataset['age'] = dataset['age'].astype(np.int64)"
   ]
  },
  {
   "cell_type": "code",
   "execution_count": 30,
   "id": "4ca9854e",
   "metadata": {},
   "outputs": [
    {
     "data": {
      "text/plain": [
       "0    19\n",
       "1    12\n",
       "2    17\n",
       "3    14\n",
       "4    16\n",
       "Name: age, dtype: int64"
      ]
     },
     "execution_count": 30,
     "metadata": {},
     "output_type": "execute_result"
    }
   ],
   "source": [
    "dataset['age'].head()"
   ]
  },
  {
   "cell_type": "markdown",
   "id": "3e42edb1",
   "metadata": {},
   "source": [
    "MILEAGE\n",
    "Remove the commas and miles from the mileage column"
   ]
  },
  {
   "cell_type": "code",
   "execution_count": 33,
   "id": "68a840d4",
   "metadata": {},
   "outputs": [
    {
     "data": {
      "text/plain": [
       "0     80000\n",
       "1     53000\n",
       "2     47690\n",
       "3    130661\n",
       "4     66300\n",
       "Name: mileage, dtype: int64"
      ]
     },
     "execution_count": 33,
     "metadata": {},
     "output_type": "execute_result"
    }
   ],
   "source": [
    "\n",
    "dataset['mileage'].head()\n"
   ]
  },
  {
   "cell_type": "code",
   "execution_count": 37,
   "id": "632dd819",
   "metadata": {},
   "outputs": [
    {
     "data": {
      "text/plain": [
       "array(['gasoline', 'diesel', 'hybrid', 'lpg', 'cng'], dtype=object)"
      ]
     },
     "execution_count": 37,
     "metadata": {},
     "output_type": "execute_result"
    }
   ],
   "source": [
    "dataset['fuel'].unique()"
   ]
  },
  {
   "cell_type": "code",
   "execution_count": 36,
   "id": "55178509",
   "metadata": {},
   "outputs": [
    {
     "data": {
      "text/plain": [
       "array(['at', 'mt', 'cvt'], dtype=object)"
      ]
     },
     "execution_count": 36,
     "metadata": {},
     "output_type": "execute_result"
    }
   ],
   "source": [
    "dataset['transmission'].unique()"
   ]
  },
  {
   "cell_type": "code",
   "execution_count": 39,
   "id": "c73a77f3",
   "metadata": {},
   "outputs": [
    {
     "data": {
      "text/html": [
       "<div>\n",
       "<style scoped>\n",
       "    .dataframe tbody tr th:only-of-type {\n",
       "        vertical-align: middle;\n",
       "    }\n",
       "\n",
       "    .dataframe tbody tr th {\n",
       "        vertical-align: top;\n",
       "    }\n",
       "\n",
       "    .dataframe thead th {\n",
       "        text-align: right;\n",
       "    }\n",
       "</style>\n",
       "<table border=\"1\" class=\"dataframe\">\n",
       "  <thead>\n",
       "    <tr style=\"text-align: right;\">\n",
       "      <th></th>\n",
       "      <th>mark</th>\n",
       "      <th>manufacturer</th>\n",
       "      <th>year</th>\n",
       "      <th>age</th>\n",
       "      <th>mileage</th>\n",
       "      <th>fuel</th>\n",
       "      <th>transmission</th>\n",
       "      <th>price</th>\n",
       "    </tr>\n",
       "  </thead>\n",
       "  <tbody>\n",
       "    <tr>\n",
       "      <th>0</th>\n",
       "      <td>nissan</td>\n",
       "      <td>nissan</td>\n",
       "      <td>2003</td>\n",
       "      <td>19</td>\n",
       "      <td>80000</td>\n",
       "      <td>gasoline</td>\n",
       "      <td>at</td>\n",
       "      <td>80</td>\n",
       "    </tr>\n",
       "    <tr>\n",
       "      <th>1</th>\n",
       "      <td>nissan</td>\n",
       "      <td>nissan</td>\n",
       "      <td>2010</td>\n",
       "      <td>12</td>\n",
       "      <td>53000</td>\n",
       "      <td>gasoline</td>\n",
       "      <td>at</td>\n",
       "      <td>110</td>\n",
       "    </tr>\n",
       "    <tr>\n",
       "      <th>2</th>\n",
       "      <td>nissan</td>\n",
       "      <td>nissan</td>\n",
       "      <td>2005</td>\n",
       "      <td>17</td>\n",
       "      <td>47690</td>\n",
       "      <td>gasoline</td>\n",
       "      <td>at</td>\n",
       "      <td>165</td>\n",
       "    </tr>\n",
       "    <tr>\n",
       "      <th>3</th>\n",
       "      <td>toyota</td>\n",
       "      <td>toyota</td>\n",
       "      <td>2008</td>\n",
       "      <td>14</td>\n",
       "      <td>130661</td>\n",
       "      <td>gasoline</td>\n",
       "      <td>at</td>\n",
       "      <td>190</td>\n",
       "    </tr>\n",
       "    <tr>\n",
       "      <th>4</th>\n",
       "      <td>daihatsu</td>\n",
       "      <td>daihatsu</td>\n",
       "      <td>2006</td>\n",
       "      <td>16</td>\n",
       "      <td>66300</td>\n",
       "      <td>gasoline</td>\n",
       "      <td>at</td>\n",
       "      <td>190</td>\n",
       "    </tr>\n",
       "  </tbody>\n",
       "</table>\n",
       "</div>"
      ],
      "text/plain": [
       "       mark manufacturer  year  age  mileage      fuel transmission  price\n",
       "0    nissan       nissan  2003   19    80000  gasoline           at     80\n",
       "1    nissan       nissan  2010   12    53000  gasoline           at    110\n",
       "2    nissan       nissan  2005   17    47690  gasoline           at    165\n",
       "3    toyota       toyota  2008   14   130661  gasoline           at    190\n",
       "4  daihatsu     daihatsu  2006   16    66300  gasoline           at    190"
      ]
     },
     "execution_count": 39,
     "metadata": {},
     "output_type": "execute_result"
    }
   ],
   "source": [
    "dataset = dataset[['mark', 'manufacturer', 'year', 'age', 'mileage', 'fuel', 'transmission', 'price']]\n",
    "dataset.head()\n"
   ]
  },
  {
   "cell_type": "code",
   "execution_count": 40,
   "id": "7d2e8bd2",
   "metadata": {},
   "outputs": [
    {
     "data": {
      "text/plain": [
       "(2318, 8)"
      ]
     },
     "execution_count": 40,
     "metadata": {},
     "output_type": "execute_result"
    }
   ],
   "source": [
    "dataset.shape"
   ]
  },
  {
   "cell_type": "code",
   "execution_count": 41,
   "id": "08bc3732",
   "metadata": {},
   "outputs": [],
   "source": [
    "#save the cleaned data to a csv file\n",
    "\n",
    "#data.to_csv('cleaned_car_data.csv', index = False)\n"
   ]
  },
  {
   "cell_type": "code",
   "execution_count": 42,
   "id": "5dc7efe4",
   "metadata": {},
   "outputs": [
    {
     "data": {
      "text/html": [
       "<div>\n",
       "<style scoped>\n",
       "    .dataframe tbody tr th:only-of-type {\n",
       "        vertical-align: middle;\n",
       "    }\n",
       "\n",
       "    .dataframe tbody tr th {\n",
       "        vertical-align: top;\n",
       "    }\n",
       "\n",
       "    .dataframe thead th {\n",
       "        text-align: right;\n",
       "    }\n",
       "</style>\n",
       "<table border=\"1\" class=\"dataframe\">\n",
       "  <thead>\n",
       "    <tr style=\"text-align: right;\">\n",
       "      <th></th>\n",
       "      <th>mark</th>\n",
       "      <th>manufacturer</th>\n",
       "      <th>year</th>\n",
       "      <th>age</th>\n",
       "      <th>mileage</th>\n",
       "      <th>fuel</th>\n",
       "      <th>transmission</th>\n",
       "      <th>price</th>\n",
       "    </tr>\n",
       "  </thead>\n",
       "  <tbody>\n",
       "    <tr>\n",
       "      <th>0</th>\n",
       "      <td>nissan</td>\n",
       "      <td>nissan</td>\n",
       "      <td>2003</td>\n",
       "      <td>19</td>\n",
       "      <td>80000</td>\n",
       "      <td>gasoline</td>\n",
       "      <td>at</td>\n",
       "      <td>80</td>\n",
       "    </tr>\n",
       "    <tr>\n",
       "      <th>1</th>\n",
       "      <td>nissan</td>\n",
       "      <td>nissan</td>\n",
       "      <td>2010</td>\n",
       "      <td>12</td>\n",
       "      <td>53000</td>\n",
       "      <td>gasoline</td>\n",
       "      <td>at</td>\n",
       "      <td>110</td>\n",
       "    </tr>\n",
       "    <tr>\n",
       "      <th>2</th>\n",
       "      <td>nissan</td>\n",
       "      <td>nissan</td>\n",
       "      <td>2005</td>\n",
       "      <td>17</td>\n",
       "      <td>47690</td>\n",
       "      <td>gasoline</td>\n",
       "      <td>at</td>\n",
       "      <td>165</td>\n",
       "    </tr>\n",
       "    <tr>\n",
       "      <th>3</th>\n",
       "      <td>toyota</td>\n",
       "      <td>toyota</td>\n",
       "      <td>2008</td>\n",
       "      <td>14</td>\n",
       "      <td>130661</td>\n",
       "      <td>gasoline</td>\n",
       "      <td>at</td>\n",
       "      <td>190</td>\n",
       "    </tr>\n",
       "    <tr>\n",
       "      <th>4</th>\n",
       "      <td>daihatsu</td>\n",
       "      <td>daihatsu</td>\n",
       "      <td>2006</td>\n",
       "      <td>16</td>\n",
       "      <td>66300</td>\n",
       "      <td>gasoline</td>\n",
       "      <td>at</td>\n",
       "      <td>190</td>\n",
       "    </tr>\n",
       "  </tbody>\n",
       "</table>\n",
       "</div>"
      ],
      "text/plain": [
       "       mark manufacturer  year  age  mileage      fuel transmission  price\n",
       "0    nissan       nissan  2003   19    80000  gasoline           at     80\n",
       "1    nissan       nissan  2010   12    53000  gasoline           at    110\n",
       "2    nissan       nissan  2005   17    47690  gasoline           at    165\n",
       "3    toyota       toyota  2008   14   130661  gasoline           at    190\n",
       "4  daihatsu     daihatsu  2006   16    66300  gasoline           at    190"
      ]
     },
     "execution_count": 42,
     "metadata": {},
     "output_type": "execute_result"
    }
   ],
   "source": [
    "dataset.head()"
   ]
  },
  {
   "cell_type": "markdown",
   "id": "18ba2017",
   "metadata": {},
   "source": [
    "DATA ANALYSIS"
   ]
  },
  {
   "cell_type": "code",
   "execution_count": 43,
   "id": "0dda19f8",
   "metadata": {},
   "outputs": [
    {
     "data": {
      "text/html": [
       "<div>\n",
       "<style scoped>\n",
       "    .dataframe tbody tr th:only-of-type {\n",
       "        vertical-align: middle;\n",
       "    }\n",
       "\n",
       "    .dataframe tbody tr th {\n",
       "        vertical-align: top;\n",
       "    }\n",
       "\n",
       "    .dataframe thead th {\n",
       "        text-align: right;\n",
       "    }\n",
       "</style>\n",
       "<table border=\"1\" class=\"dataframe\">\n",
       "  <thead>\n",
       "    <tr style=\"text-align: right;\">\n",
       "      <th></th>\n",
       "      <th>mark</th>\n",
       "      <th>manufacturer</th>\n",
       "      <th>year</th>\n",
       "      <th>age</th>\n",
       "      <th>mileage</th>\n",
       "      <th>fuel</th>\n",
       "      <th>transmission</th>\n",
       "      <th>price</th>\n",
       "    </tr>\n",
       "  </thead>\n",
       "  <tbody>\n",
       "    <tr>\n",
       "      <th>2293</th>\n",
       "      <td>toyota</td>\n",
       "      <td>toyota</td>\n",
       "      <td>2005</td>\n",
       "      <td>17</td>\n",
       "      <td>85674</td>\n",
       "      <td>gasoline</td>\n",
       "      <td>at</td>\n",
       "      <td>1400</td>\n",
       "    </tr>\n",
       "    <tr>\n",
       "      <th>2294</th>\n",
       "      <td>toyota</td>\n",
       "      <td>toyota</td>\n",
       "      <td>2005</td>\n",
       "      <td>17</td>\n",
       "      <td>138082</td>\n",
       "      <td>gasoline</td>\n",
       "      <td>at</td>\n",
       "      <td>1400</td>\n",
       "    </tr>\n",
       "    <tr>\n",
       "      <th>2295</th>\n",
       "      <td>toyota</td>\n",
       "      <td>toyota</td>\n",
       "      <td>2005</td>\n",
       "      <td>17</td>\n",
       "      <td>104593</td>\n",
       "      <td>gasoline</td>\n",
       "      <td>at</td>\n",
       "      <td>1400</td>\n",
       "    </tr>\n",
       "    <tr>\n",
       "      <th>2296</th>\n",
       "      <td>toyota</td>\n",
       "      <td>toyota</td>\n",
       "      <td>2005</td>\n",
       "      <td>17</td>\n",
       "      <td>45939</td>\n",
       "      <td>gasoline</td>\n",
       "      <td>at</td>\n",
       "      <td>1400</td>\n",
       "    </tr>\n",
       "    <tr>\n",
       "      <th>2297</th>\n",
       "      <td>nissan</td>\n",
       "      <td>nissan</td>\n",
       "      <td>2006</td>\n",
       "      <td>16</td>\n",
       "      <td>147875</td>\n",
       "      <td>gasoline</td>\n",
       "      <td>at</td>\n",
       "      <td>1400</td>\n",
       "    </tr>\n",
       "  </tbody>\n",
       "</table>\n",
       "</div>"
      ],
      "text/plain": [
       "        mark manufacturer  year  age  mileage      fuel transmission  price\n",
       "2293  toyota       toyota  2005   17    85674  gasoline           at   1400\n",
       "2294  toyota       toyota  2005   17   138082  gasoline           at   1400\n",
       "2295  toyota       toyota  2005   17   104593  gasoline           at   1400\n",
       "2296  toyota       toyota  2005   17    45939  gasoline           at   1400\n",
       "2297  nissan       nissan  2006   16   147875  gasoline           at   1400"
      ]
     },
     "execution_count": 43,
     "metadata": {},
     "output_type": "execute_result"
    }
   ],
   "source": [
    "#the most expensive cars in the collection\n",
    "dataset.nlargest(5, 'price')"
   ]
  },
  {
   "cell_type": "code",
   "execution_count": 44,
   "id": "f421581b",
   "metadata": {},
   "outputs": [
    {
     "data": {
      "text/html": [
       "<div>\n",
       "<style scoped>\n",
       "    .dataframe tbody tr th:only-of-type {\n",
       "        vertical-align: middle;\n",
       "    }\n",
       "\n",
       "    .dataframe tbody tr th {\n",
       "        vertical-align: top;\n",
       "    }\n",
       "\n",
       "    .dataframe thead th {\n",
       "        text-align: right;\n",
       "    }\n",
       "</style>\n",
       "<table border=\"1\" class=\"dataframe\">\n",
       "  <thead>\n",
       "    <tr style=\"text-align: right;\">\n",
       "      <th></th>\n",
       "      <th>mark</th>\n",
       "      <th>manufacturer</th>\n",
       "      <th>year</th>\n",
       "      <th>age</th>\n",
       "      <th>mileage</th>\n",
       "      <th>fuel</th>\n",
       "      <th>transmission</th>\n",
       "      <th>price</th>\n",
       "    </tr>\n",
       "  </thead>\n",
       "  <tbody>\n",
       "    <tr>\n",
       "      <th>811</th>\n",
       "      <td>mazda</td>\n",
       "      <td>mazda</td>\n",
       "      <td>2009</td>\n",
       "      <td>13</td>\n",
       "      <td>790000</td>\n",
       "      <td>gasoline</td>\n",
       "      <td>at</td>\n",
       "      <td>850</td>\n",
       "    </tr>\n",
       "    <tr>\n",
       "      <th>1713</th>\n",
       "      <td>honda</td>\n",
       "      <td>honda</td>\n",
       "      <td>2011</td>\n",
       "      <td>11</td>\n",
       "      <td>623765</td>\n",
       "      <td>gasoline</td>\n",
       "      <td>at</td>\n",
       "      <td>1213</td>\n",
       "    </tr>\n",
       "    <tr>\n",
       "      <th>1587</th>\n",
       "      <td>toyota</td>\n",
       "      <td>toyota</td>\n",
       "      <td>2010</td>\n",
       "      <td>12</td>\n",
       "      <td>600000</td>\n",
       "      <td>gasoline</td>\n",
       "      <td>at</td>\n",
       "      <td>1165</td>\n",
       "    </tr>\n",
       "    <tr>\n",
       "      <th>2210</th>\n",
       "      <td>hino</td>\n",
       "      <td>hino</td>\n",
       "      <td>2006</td>\n",
       "      <td>16</td>\n",
       "      <td>567058</td>\n",
       "      <td>diesel</td>\n",
       "      <td>mt</td>\n",
       "      <td>1372</td>\n",
       "    </tr>\n",
       "    <tr>\n",
       "      <th>971</th>\n",
       "      <td>toyota</td>\n",
       "      <td>toyota</td>\n",
       "      <td>2003</td>\n",
       "      <td>19</td>\n",
       "      <td>497408</td>\n",
       "      <td>lpg</td>\n",
       "      <td>at</td>\n",
       "      <td>933</td>\n",
       "    </tr>\n",
       "  </tbody>\n",
       "</table>\n",
       "</div>"
      ],
      "text/plain": [
       "        mark manufacturer  year  age  mileage      fuel transmission  price\n",
       "811    mazda        mazda  2009   13   790000  gasoline           at    850\n",
       "1713   honda        honda  2011   11   623765  gasoline           at   1213\n",
       "1587  toyota       toyota  2010   12   600000  gasoline           at   1165\n",
       "2210    hino         hino  2006   16   567058    diesel           mt   1372\n",
       "971   toyota       toyota  2003   19   497408       lpg           at    933"
      ]
     },
     "execution_count": 44,
     "metadata": {},
     "output_type": "execute_result"
    }
   ],
   "source": [
    "#cars with the most miles in the collection\n",
    "dataset.nlargest(5, 'mileage')"
   ]
  },
  {
   "cell_type": "code",
   "execution_count": 45,
   "id": "0dba53c4",
   "metadata": {},
   "outputs": [
    {
     "data": {
      "text/html": [
       "<div>\n",
       "<style scoped>\n",
       "    .dataframe tbody tr th:only-of-type {\n",
       "        vertical-align: middle;\n",
       "    }\n",
       "\n",
       "    .dataframe tbody tr th {\n",
       "        vertical-align: top;\n",
       "    }\n",
       "\n",
       "    .dataframe thead th {\n",
       "        text-align: right;\n",
       "    }\n",
       "</style>\n",
       "<table border=\"1\" class=\"dataframe\">\n",
       "  <thead>\n",
       "    <tr style=\"text-align: right;\">\n",
       "      <th></th>\n",
       "      <th>mark</th>\n",
       "      <th>manufacturer</th>\n",
       "      <th>year</th>\n",
       "      <th>age</th>\n",
       "      <th>mileage</th>\n",
       "      <th>fuel</th>\n",
       "      <th>transmission</th>\n",
       "      <th>price</th>\n",
       "    </tr>\n",
       "  </thead>\n",
       "  <tbody>\n",
       "    <tr>\n",
       "      <th>23</th>\n",
       "      <td>kubota</td>\n",
       "      <td>kubota</td>\n",
       "      <td>1979</td>\n",
       "      <td>43</td>\n",
       "      <td>9999</td>\n",
       "      <td>diesel</td>\n",
       "      <td>mt</td>\n",
       "      <td>300</td>\n",
       "    </tr>\n",
       "    <tr>\n",
       "      <th>249</th>\n",
       "      <td>mitsubishi</td>\n",
       "      <td>mitsubishi</td>\n",
       "      <td>1982</td>\n",
       "      <td>40</td>\n",
       "      <td>58099</td>\n",
       "      <td>gasoline</td>\n",
       "      <td>mt</td>\n",
       "      <td>551</td>\n",
       "    </tr>\n",
       "    <tr>\n",
       "      <th>1128</th>\n",
       "      <td>suzuki</td>\n",
       "      <td>suzuki</td>\n",
       "      <td>1987</td>\n",
       "      <td>35</td>\n",
       "      <td>17800</td>\n",
       "      <td>gasoline</td>\n",
       "      <td>mt</td>\n",
       "      <td>990</td>\n",
       "    </tr>\n",
       "    <tr>\n",
       "      <th>1160</th>\n",
       "      <td>mazda</td>\n",
       "      <td>mazda</td>\n",
       "      <td>1988</td>\n",
       "      <td>34</td>\n",
       "      <td>137419</td>\n",
       "      <td>gasoline</td>\n",
       "      <td>mt</td>\n",
       "      <td>1000</td>\n",
       "    </tr>\n",
       "    <tr>\n",
       "      <th>740</th>\n",
       "      <td>suzuki</td>\n",
       "      <td>suzuki</td>\n",
       "      <td>1990</td>\n",
       "      <td>32</td>\n",
       "      <td>55189</td>\n",
       "      <td>gasoline</td>\n",
       "      <td>mt</td>\n",
       "      <td>840</td>\n",
       "    </tr>\n",
       "  </tbody>\n",
       "</table>\n",
       "</div>"
      ],
      "text/plain": [
       "            mark manufacturer  year  age  mileage      fuel transmission  \\\n",
       "23        kubota       kubota  1979   43     9999    diesel           mt   \n",
       "249   mitsubishi   mitsubishi  1982   40    58099  gasoline           mt   \n",
       "1128      suzuki       suzuki  1987   35    17800  gasoline           mt   \n",
       "1160       mazda        mazda  1988   34   137419  gasoline           mt   \n",
       "740       suzuki       suzuki  1990   32    55189  gasoline           mt   \n",
       "\n",
       "      price  \n",
       "23      300  \n",
       "249     551  \n",
       "1128    990  \n",
       "1160   1000  \n",
       "740     840  "
      ]
     },
     "execution_count": 45,
     "metadata": {},
     "output_type": "execute_result"
    }
   ],
   "source": [
    "#oldest cars in the collection\n",
    "dataset.nlargest(5, 'age')"
   ]
  },
  {
   "cell_type": "code",
   "execution_count": 46,
   "id": "874fa4d2",
   "metadata": {},
   "outputs": [
    {
     "data": {
      "text/html": [
       "<div>\n",
       "<style scoped>\n",
       "    .dataframe tbody tr th:only-of-type {\n",
       "        vertical-align: middle;\n",
       "    }\n",
       "\n",
       "    .dataframe tbody tr th {\n",
       "        vertical-align: top;\n",
       "    }\n",
       "\n",
       "    .dataframe thead th {\n",
       "        text-align: right;\n",
       "    }\n",
       "</style>\n",
       "<table border=\"1\" class=\"dataframe\">\n",
       "  <thead>\n",
       "    <tr style=\"text-align: right;\">\n",
       "      <th></th>\n",
       "      <th>mark</th>\n",
       "      <th>manufacturer</th>\n",
       "      <th>year</th>\n",
       "      <th>age</th>\n",
       "      <th>mileage</th>\n",
       "      <th>fuel</th>\n",
       "      <th>transmission</th>\n",
       "      <th>price</th>\n",
       "    </tr>\n",
       "  </thead>\n",
       "  <tbody>\n",
       "    <tr>\n",
       "      <th>0</th>\n",
       "      <td>nissan</td>\n",
       "      <td>nissan</td>\n",
       "      <td>2003</td>\n",
       "      <td>19</td>\n",
       "      <td>80000</td>\n",
       "      <td>gasoline</td>\n",
       "      <td>at</td>\n",
       "      <td>80</td>\n",
       "    </tr>\n",
       "    <tr>\n",
       "      <th>1</th>\n",
       "      <td>nissan</td>\n",
       "      <td>nissan</td>\n",
       "      <td>2010</td>\n",
       "      <td>12</td>\n",
       "      <td>53000</td>\n",
       "      <td>gasoline</td>\n",
       "      <td>at</td>\n",
       "      <td>110</td>\n",
       "    </tr>\n",
       "    <tr>\n",
       "      <th>2</th>\n",
       "      <td>nissan</td>\n",
       "      <td>nissan</td>\n",
       "      <td>2005</td>\n",
       "      <td>17</td>\n",
       "      <td>47690</td>\n",
       "      <td>gasoline</td>\n",
       "      <td>at</td>\n",
       "      <td>165</td>\n",
       "    </tr>\n",
       "    <tr>\n",
       "      <th>3</th>\n",
       "      <td>toyota</td>\n",
       "      <td>toyota</td>\n",
       "      <td>2008</td>\n",
       "      <td>14</td>\n",
       "      <td>130661</td>\n",
       "      <td>gasoline</td>\n",
       "      <td>at</td>\n",
       "      <td>190</td>\n",
       "    </tr>\n",
       "    <tr>\n",
       "      <th>4</th>\n",
       "      <td>daihatsu</td>\n",
       "      <td>daihatsu</td>\n",
       "      <td>2006</td>\n",
       "      <td>16</td>\n",
       "      <td>66300</td>\n",
       "      <td>gasoline</td>\n",
       "      <td>at</td>\n",
       "      <td>190</td>\n",
       "    </tr>\n",
       "  </tbody>\n",
       "</table>\n",
       "</div>"
      ],
      "text/plain": [
       "       mark manufacturer  year  age  mileage      fuel transmission  price\n",
       "0    nissan       nissan  2003   19    80000  gasoline           at     80\n",
       "1    nissan       nissan  2010   12    53000  gasoline           at    110\n",
       "2    nissan       nissan  2005   17    47690  gasoline           at    165\n",
       "3    toyota       toyota  2008   14   130661  gasoline           at    190\n",
       "4  daihatsu     daihatsu  2006   16    66300  gasoline           at    190"
      ]
     },
     "execution_count": 46,
     "metadata": {},
     "output_type": "execute_result"
    }
   ],
   "source": [
    "dataset.head()\n"
   ]
  },
  {
   "cell_type": "code",
   "execution_count": 47,
   "id": "ef66fc1c",
   "metadata": {},
   "outputs": [
    {
     "data": {
      "text/html": [
       "<div>\n",
       "<style scoped>\n",
       "    .dataframe tbody tr th:only-of-type {\n",
       "        vertical-align: middle;\n",
       "    }\n",
       "\n",
       "    .dataframe tbody tr th {\n",
       "        vertical-align: top;\n",
       "    }\n",
       "\n",
       "    .dataframe thead th {\n",
       "        text-align: right;\n",
       "    }\n",
       "</style>\n",
       "<table border=\"1\" class=\"dataframe\">\n",
       "  <thead>\n",
       "    <tr style=\"text-align: right;\">\n",
       "      <th></th>\n",
       "      <th>year</th>\n",
       "      <th>age</th>\n",
       "      <th>mileage</th>\n",
       "      <th>price</th>\n",
       "    </tr>\n",
       "  </thead>\n",
       "  <tbody>\n",
       "    <tr>\n",
       "      <th>year</th>\n",
       "      <td>1.000000</td>\n",
       "      <td>-1.000000</td>\n",
       "      <td>0.086065</td>\n",
       "      <td>-0.211092</td>\n",
       "    </tr>\n",
       "    <tr>\n",
       "      <th>age</th>\n",
       "      <td>-1.000000</td>\n",
       "      <td>1.000000</td>\n",
       "      <td>-0.086065</td>\n",
       "      <td>0.211092</td>\n",
       "    </tr>\n",
       "    <tr>\n",
       "      <th>mileage</th>\n",
       "      <td>0.086065</td>\n",
       "      <td>-0.086065</td>\n",
       "      <td>1.000000</td>\n",
       "      <td>0.021581</td>\n",
       "    </tr>\n",
       "    <tr>\n",
       "      <th>price</th>\n",
       "      <td>-0.211092</td>\n",
       "      <td>0.211092</td>\n",
       "      <td>0.021581</td>\n",
       "      <td>1.000000</td>\n",
       "    </tr>\n",
       "  </tbody>\n",
       "</table>\n",
       "</div>"
      ],
      "text/plain": [
       "             year       age   mileage     price\n",
       "year     1.000000 -1.000000  0.086065 -0.211092\n",
       "age     -1.000000  1.000000 -0.086065  0.211092\n",
       "mileage  0.086065 -0.086065  1.000000  0.021581\n",
       "price   -0.211092  0.211092  0.021581  1.000000"
      ]
     },
     "execution_count": 47,
     "metadata": {},
     "output_type": "execute_result"
    }
   ],
   "source": [
    "corr = dataset.corr()\n",
    "corr"
   ]
  },
  {
   "cell_type": "code",
   "execution_count": 48,
   "id": "365eda82",
   "metadata": {},
   "outputs": [
    {
     "data": {
      "image/png": "[encoded data removed]",
      "text/plain": [
       "<Figure size 432x288 with 2 Axes>"
      ]
     },
     "metadata": {
      "needs_background": "light"
     },
     "output_type": "display_data"
    }
   ],
   "source": [
    "# heat map\n",
    "sns.heatmap(corr, \n",
    "        xticklabels=corr.columns,\n",
    "        yticklabels=corr.columns, annot=True);\n"
   ]
  },
  {
   "cell_type": "code",
   "execution_count": 49,
   "id": "bb01579c",
   "metadata": {},
   "outputs": [
    {
     "name": "stderr",
     "output_type": "stream",
     "text": [
      "C:\\Users\\91939\\anaconda3\\lib\\site-packages\\seaborn\\_decorators.py:36: FutureWarning: Pass the following variable as a keyword arg: x. From version 0.12, the only valid positional argument will be `data`, and passing other arguments without an explicit keyword will result in an error or misinterpretation.\n",
      "  warnings.warn(\n"
     ]
    },
    {
     "data": {
      "image/png": "[encoded data removed]",
      "text/plain": [
       "<Figure size 1440x720 with 1 Axes>"
      ]
     },
     "metadata": {
      "needs_background": "light"
     },
     "output_type": "display_data"
    }
   ],
   "source": [
    "# count of cars by car make\n",
    "fig = plt.figure(figsize=(20, 10))\n",
    "sns.countplot(dataset.manufacturer);\n",
    "plt.title(\"Distribution of car manufacturers\")\n",
    "plt.xticks(rotation=90)\n",
    "plt.savefig('distribution-of-car-manufacturers.png')"
   ]
  },
  {
   "cell_type": "code",
   "execution_count": 50,
   "id": "3b22ad5f",
   "metadata": {},
   "outputs": [
    {
     "data": {
      "text/plain": [
       "toyota           1047\n",
       "honda             382\n",
       "nissan            320\n",
       "mazda             148\n",
       "suzuki            126\n",
       "mitsubishi         65\n",
       "daihatsu           56\n",
       "subaru             54\n",
       "volkswagen         52\n",
       "bmw                27\n",
       "hyundai             9\n",
       "mercedes-benz       5\n",
       "kia                 4\n",
       "isuzu               3\n",
       "audi                3\n",
       "smart               2\n",
       "volvo               2\n",
       "land                2\n",
       "peugeot             2\n",
       "hino                1\n",
       "mitsuoka            1\n",
       "ford                1\n",
       "gm                  1\n",
       "citroen             1\n",
       "opel                1\n",
       "chrysler            1\n",
       "kubota              1\n",
       "jaguar              1\n",
       "Name: manufacturer, dtype: int64"
      ]
     },
     "execution_count": 50,
     "metadata": {},
     "output_type": "execute_result"
    }
   ],
   "source": [
    "# numbers of cars under the various car manufacturers\n",
    "dataset.manufacturer.value_counts()\n"
   ]
  },
  {
   "cell_type": "code",
   "execution_count": 53,
   "id": "76934563",
   "metadata": {},
   "outputs": [
    {
     "name": "stderr",
     "output_type": "stream",
     "text": [
      "C:\\Users\\91939\\anaconda3\\lib\\site-packages\\seaborn\\_decorators.py:36: FutureWarning: Pass the following variable as a keyword arg: x. From version 0.12, the only valid positional argument will be `data`, and passing other arguments without an explicit keyword will result in an error or misinterpretation.\n",
      "  warnings.warn(\n"
     ]
    },
    {
     "data": {
      "image/png": "[encoded data removed]",
      "text/plain": [
       "<Figure size 1440x720 with 1 Axes>"
      ]
     },
     "metadata": {
      "needs_background": "light"
     },
     "output_type": "display_data"
    }
   ],
   "source": [
    "#count of cars by year\n",
    "fig = plt.figure(figsize=(20,10))\n",
    "sns.countplot(dataset.year)\n",
    "plt.title(\"Distribution of cars by year\")\n",
    "plt.xticks(rotation=90);\n",
    "plt.savefig('distribution-of-car-by-year.png')\n"
   ]
  },
  {
   "cell_type": "code",
   "execution_count": 56,
   "id": "36bb8eaf",
   "metadata": {},
   "outputs": [
    {
     "data": {
      "text/plain": [
       "Text(0.5, 1.0, 'Distribution of `the years')"
      ]
     },
     "execution_count": 56,
     "metadata": {},
     "output_type": "execute_result"
    },
    {
     "data": {
      "image/png": "[encoded data removed]",
      "text/plain": [
       "<Figure size 1440x720 with 1 Axes>"
      ]
     },
     "metadata": {
      "needs_background": "light"
     },
     "output_type": "display_data"
    }
   ],
   "source": [
    "# distribution of the year column\n",
    "fig = plt.figure(figsize=(20,10))\n",
    "sns.histplot(data = dataset, x = 'year', kde = True)\n",
    "plt.title(\"Distribution of `the years\")"
   ]
  },
  {
   "cell_type": "code",
   "execution_count": 57,
   "id": "f2f3209e",
   "metadata": {},
   "outputs": [
    {
     "data": {
      "text/plain": [
       "2005    365\n",
       "2007    318\n",
       "2003    248\n",
       "2006    199\n",
       "2009    199\n",
       "2004    194\n",
       "2011    173\n",
       "2010    153\n",
       "2008     91\n",
       "2002     82\n",
       "2001     77\n",
       "2013     52\n",
       "2012     42\n",
       "1999     32\n",
       "2000     27\n",
       "1998     13\n",
       "1997     13\n",
       "1996      6\n",
       "1995      6\n",
       "1993      5\n",
       "1994      4\n",
       "2014      4\n",
       "1990      4\n",
       "1991      3\n",
       "1992      3\n",
       "1979      1\n",
       "1982      1\n",
       "2015      1\n",
       "1987      1\n",
       "1988      1\n",
       "Name: year, dtype: int64"
      ]
     },
     "execution_count": 57,
     "metadata": {},
     "output_type": "execute_result"
    }
   ],
   "source": [
    "# numbers of cars produced in each year\n",
    "dataset.year.value_counts()"
   ]
  },
  {
   "cell_type": "code",
   "execution_count": 60,
   "id": "b47dfea3",
   "metadata": {},
   "outputs": [
    {
     "name": "stderr",
     "output_type": "stream",
     "text": [
      "C:\\Users\\91939\\anaconda3\\lib\\site-packages\\seaborn\\_decorators.py:36: FutureWarning: Pass the following variable as a keyword arg: x. From version 0.12, the only valid positional argument will be `data`, and passing other arguments without an explicit keyword will result in an error or misinterpretation.\n",
      "  warnings.warn(\n"
     ]
    },
    {
     "data": {
      "image/png": "[encoded data removed]",
      "text/plain": [
       "<Figure size 576x360 with 1 Axes>"
      ]
     },
     "metadata": {
      "needs_background": "light"
     },
     "output_type": "display_data"
    }
   ],
   "source": [
    "#count of cars by engine\n",
    "fig = plt.figure(figsize=(8, 5))\n",
    "sns.countplot(dataset.fuel);\n",
    "plt.title(\"Distribution of car engine type\")\n",
    "plt.xticks(rotation=90);\n",
    "plt.savefig('distribution-of-car-engine-type.png')"
   ]
  },
  {
   "cell_type": "code",
   "execution_count": 61,
   "id": "93c882ef",
   "metadata": {},
   "outputs": [
    {
     "data": {
      "text/plain": [
       "gasoline    2290\n",
       "diesel        18\n",
       "lpg            7\n",
       "hybrid         2\n",
       "cng            1\n",
       "Name: fuel, dtype: int64"
      ]
     },
     "execution_count": 61,
     "metadata": {},
     "output_type": "execute_result"
    }
   ],
   "source": [
    "# numbers of cars with the different engine types\n",
    "dataset.fuel.value_counts()"
   ]
  },
  {
   "cell_type": "code",
   "execution_count": 62,
   "id": "0dc78453",
   "metadata": {},
   "outputs": [
    {
     "name": "stderr",
     "output_type": "stream",
     "text": [
      "C:\\Users\\91939\\anaconda3\\lib\\site-packages\\seaborn\\_decorators.py:36: FutureWarning: Pass the following variable as a keyword arg: x. From version 0.12, the only valid positional argument will be `data`, and passing other arguments without an explicit keyword will result in an error or misinterpretation.\n",
      "  warnings.warn(\n"
     ]
    },
    {
     "data": {
      "image/png": "[encoded data removed]",
      "text/plain": [
       "<Figure size 576x360 with 1 Axes>"
      ]
     },
     "metadata": {
      "needs_background": "light"
     },
     "output_type": "display_data"
    }
   ],
   "source": [
    "#count of cars by transmission\n",
    "fig = plt.figure(figsize=(8, 5))\n",
    "sns.countplot(dataset.transmission);\n",
    "plt.title(\"Distribution of car transmissions\")\n",
    "plt.xticks(rotation=90);\n",
    "plt.savefig('distribution-of-car-transmission.png')\n"
   ]
  },
  {
   "cell_type": "code",
   "execution_count": 63,
   "id": "fbc7ee0c",
   "metadata": {},
   "outputs": [
    {
     "data": {
      "text/plain": [
       "at     2171\n",
       "mt      117\n",
       "cvt      30\n",
       "Name: transmission, dtype: int64"
      ]
     },
     "execution_count": 63,
     "metadata": {},
     "output_type": "execute_result"
    }
   ],
   "source": [
    "# number of cars with the various car transmissions \n",
    "dataset.transmission.value_counts()"
   ]
  },
  {
   "cell_type": "code",
   "execution_count": 65,
   "id": "0ed46bd1",
   "metadata": {
    "scrolled": true
   },
   "outputs": [
    {
     "data": {
      "text/html": [
       "<div>\n",
       "<style scoped>\n",
       "    .dataframe tbody tr th:only-of-type {\n",
       "        vertical-align: middle;\n",
       "    }\n",
       "\n",
       "    .dataframe tbody tr th {\n",
       "        vertical-align: top;\n",
       "    }\n",
       "\n",
       "    .dataframe thead th {\n",
       "        text-align: right;\n",
       "    }\n",
       "</style>\n",
       "<table border=\"1\" class=\"dataframe\">\n",
       "  <thead>\n",
       "    <tr style=\"text-align: right;\">\n",
       "      <th></th>\n",
       "      <th>price</th>\n",
       "    </tr>\n",
       "    <tr>\n",
       "      <th>manufacturer</th>\n",
       "      <th></th>\n",
       "    </tr>\n",
       "  </thead>\n",
       "  <tbody>\n",
       "    <tr>\n",
       "      <th>jaguar</th>\n",
       "      <td>1385.000000</td>\n",
       "    </tr>\n",
       "    <tr>\n",
       "      <th>hino</th>\n",
       "      <td>1372.000000</td>\n",
       "    </tr>\n",
       "    <tr>\n",
       "      <th>ford</th>\n",
       "      <td>1350.000000</td>\n",
       "    </tr>\n",
       "    <tr>\n",
       "      <th>hyundai</th>\n",
       "      <td>1305.000000</td>\n",
       "    </tr>\n",
       "    <tr>\n",
       "      <th>volvo</th>\n",
       "      <td>1262.500000</td>\n",
       "    </tr>\n",
       "    <tr>\n",
       "      <th>kia</th>\n",
       "      <td>1185.500000</td>\n",
       "    </tr>\n",
       "    <tr>\n",
       "      <th>bmw</th>\n",
       "      <td>1184.666667</td>\n",
       "    </tr>\n",
       "    <tr>\n",
       "      <th>isuzu</th>\n",
       "      <td>1174.000000</td>\n",
       "    </tr>\n",
       "    <tr>\n",
       "      <th>mitsuoka</th>\n",
       "      <td>1120.000000</td>\n",
       "    </tr>\n",
       "    <tr>\n",
       "      <th>citroen</th>\n",
       "      <td>1104.000000</td>\n",
       "    </tr>\n",
       "    <tr>\n",
       "      <th>land</th>\n",
       "      <td>1100.500000</td>\n",
       "    </tr>\n",
       "    <tr>\n",
       "      <th>volkswagen</th>\n",
       "      <td>1092.134615</td>\n",
       "    </tr>\n",
       "    <tr>\n",
       "      <th>peugeot</th>\n",
       "      <td>1057.500000</td>\n",
       "    </tr>\n",
       "    <tr>\n",
       "      <th>subaru</th>\n",
       "      <td>1048.425926</td>\n",
       "    </tr>\n",
       "    <tr>\n",
       "      <th>audi</th>\n",
       "      <td>1027.000000</td>\n",
       "    </tr>\n",
       "    <tr>\n",
       "      <th>toyota</th>\n",
       "      <td>1024.912130</td>\n",
       "    </tr>\n",
       "    <tr>\n",
       "      <th>suzuki</th>\n",
       "      <td>985.595238</td>\n",
       "    </tr>\n",
       "    <tr>\n",
       "      <th>mazda</th>\n",
       "      <td>956.337838</td>\n",
       "    </tr>\n",
       "    <tr>\n",
       "      <th>honda</th>\n",
       "      <td>948.041885</td>\n",
       "    </tr>\n",
       "    <tr>\n",
       "      <th>smart</th>\n",
       "      <td>933.500000</td>\n",
       "    </tr>\n",
       "    <tr>\n",
       "      <th>daihatsu</th>\n",
       "      <td>916.946429</td>\n",
       "    </tr>\n",
       "    <tr>\n",
       "      <th>mitsubishi</th>\n",
       "      <td>840.630769</td>\n",
       "    </tr>\n",
       "    <tr>\n",
       "      <th>nissan</th>\n",
       "      <td>797.684375</td>\n",
       "    </tr>\n",
       "    <tr>\n",
       "      <th>mercedes-benz</th>\n",
       "      <td>765.200000</td>\n",
       "    </tr>\n",
       "    <tr>\n",
       "      <th>opel</th>\n",
       "      <td>760.000000</td>\n",
       "    </tr>\n",
       "    <tr>\n",
       "      <th>gm</th>\n",
       "      <td>750.000000</td>\n",
       "    </tr>\n",
       "    <tr>\n",
       "      <th>chrysler</th>\n",
       "      <td>625.000000</td>\n",
       "    </tr>\n",
       "    <tr>\n",
       "      <th>kubota</th>\n",
       "      <td>300.000000</td>\n",
       "    </tr>\n",
       "  </tbody>\n",
       "</table>\n",
       "</div>"
      ],
      "text/plain": [
       "                     price\n",
       "manufacturer              \n",
       "jaguar         1385.000000\n",
       "hino           1372.000000\n",
       "ford           1350.000000\n",
       "hyundai        1305.000000\n",
       "volvo          1262.500000\n",
       "kia            1185.500000\n",
       "bmw            1184.666667\n",
       "isuzu          1174.000000\n",
       "mitsuoka       1120.000000\n",
       "citroen        1104.000000\n",
       "land           1100.500000\n",
       "volkswagen     1092.134615\n",
       "peugeot        1057.500000\n",
       "subaru         1048.425926\n",
       "audi           1027.000000\n",
       "toyota         1024.912130\n",
       "suzuki          985.595238\n",
       "mazda           956.337838\n",
       "honda           948.041885\n",
       "smart           933.500000\n",
       "daihatsu        916.946429\n",
       "mitsubishi      840.630769\n",
       "nissan          797.684375\n",
       "mercedes-benz   765.200000\n",
       "opel            760.000000\n",
       "gm              750.000000\n",
       "chrysler        625.000000\n",
       "kubota          300.000000"
      ]
     },
     "execution_count": 65,
     "metadata": {},
     "output_type": "execute_result"
    }
   ],
   "source": [
    "# create a pivot table to find the average price per car manufacturer\n",
    "pivot_table = dataset.pivot_table(values='price', index='manufacturer', aggfunc='mean')\n",
    "result = pivot_table.sort_values('price', ascending = False)\n",
    "result\n"
   ]
  },
  {
   "cell_type": "code",
   "execution_count": 67,
   "id": "fc57f8af",
   "metadata": {},
   "outputs": [
    {
     "data": {
      "text/plain": [
       "<AxesSubplot:xlabel='age', ylabel='price'>"
      ]
     },
     "execution_count": 67,
     "metadata": {},
     "output_type": "execute_result"
    },
    {
     "data": {
      "image/png": "[encoded data removed]",
      "text/plain": [
       "<Figure size 432x288 with 1 Axes>"
      ]
     },
     "metadata": {
      "needs_background": "light"
     },
     "output_type": "display_data"
    }
   ],
   "source": [
    "sns.scatterplot(x='age', y='price', data=dataset)"
   ]
  },
  {
   "cell_type": "markdown",
   "id": "f1eb8712",
   "metadata": {},
   "source": [
    "There is negative correlation between the age and prices of cars. As the age increases, the price reduces"
   ]
  },
  {
   "cell_type": "code",
   "execution_count": 68,
   "id": "c5a0ed26",
   "metadata": {},
   "outputs": [
    {
     "data": {
      "text/plain": [
       "<AxesSubplot:xlabel='mileage', ylabel='price'>"
      ]
     },
     "execution_count": 68,
     "metadata": {},
     "output_type": "execute_result"
    },
    {
     "data": {
      "image/png": "[encoded data removed]",
      "text/plain": [
       "<Figure size 432x288 with 1 Axes>"
      ]
     },
     "metadata": {
      "needs_background": "light"
     },
     "output_type": "display_data"
    }
   ],
   "source": [
    "sns.scatterplot(x='mileage', y='price', data=dataset)"
   ]
  },
  {
   "cell_type": "markdown",
   "id": "85245152",
   "metadata": {},
   "source": [
    "There is negative correlation between the mileage and prices of the cars. As the number of miles travelled increases, the price reduces"
   ]
  },
  {
   "cell_type": "code",
   "execution_count": 71,
   "id": "a4cfc9a9",
   "metadata": {},
   "outputs": [
    {
     "data": {
      "text/plain": [
       "<AxesSubplot:xlabel='mileage', ylabel='price'>"
      ]
     },
     "execution_count": 71,
     "metadata": {},
     "output_type": "execute_result"
    },
    {
     "data": {
      "image/png": "[encoded data removed]",
      "text/plain": [
       "<Figure size 432x288 with 1 Axes>"
      ]
     },
     "metadata": {
      "needs_background": "light"
     },
     "output_type": "display_data"
    }
   ],
   "source": [
    "sns.scatterplot(x='mileage', y='price', data=dataset, hue = 'fuel')"
   ]
  },
  {
   "cell_type": "code",
   "execution_count": 72,
   "id": "6c417608",
   "metadata": {},
   "outputs": [
    {
     "data": {
      "text/plain": [
       "<AxesSubplot:xlabel='age', ylabel='mileage'>"
      ]
     },
     "execution_count": 72,
     "metadata": {},
     "output_type": "execute_result"
    },
    {
     "data": {
      "image/png": "[encoded data removed]",
      "text/plain": [
       "<Figure size 432x288 with 1 Axes>"
      ]
     },
     "metadata": {
      "needs_background": "light"
     },
     "output_type": "display_data"
    }
   ],
   "source": [
    "sns.scatterplot(x='age', y='mileage', data=dataset)"
   ]
  },
  {
   "cell_type": "markdown",
   "id": "af95b761",
   "metadata": {},
   "source": [
    "There is a positive correlation between the mileage and age of the cars. the number of miles travelled increases with age."
   ]
  },
  {
   "cell_type": "code",
   "execution_count": 74,
   "id": "9eee2e8d",
   "metadata": {},
   "outputs": [
    {
     "data": {
      "text/plain": [
       "<AxesSubplot:xlabel='age', ylabel='mileage'>"
      ]
     },
     "execution_count": 74,
     "metadata": {},
     "output_type": "execute_result"
    },
    {
     "data": {
      "image/png": "[encoded data removed]",
      "text/plain": [
       "<Figure size 432x288 with 1 Axes>"
      ]
     },
     "metadata": {
      "needs_background": "light"
     },
     "output_type": "display_data"
    }
   ],
   "source": [
    "sns.scatterplot(x='age', y='mileage', data=dataset, hue = 'fuel')"
   ]
  },
  {
   "cell_type": "code",
   "execution_count": 75,
   "id": "768db6c8",
   "metadata": {},
   "outputs": [
    {
     "data": {
      "text/plain": [
       "Text(0.5, 1.0, 'Box Plot of Age')"
      ]
     },
     "execution_count": 75,
     "metadata": {},
     "output_type": "execute_result"
    },
    {
     "data": {
      "image/png": "[encoded data removed]",
      "text/plain": [
       "<Figure size 432x288 with 1 Axes>"
      ]
     },
     "metadata": {
      "needs_background": "light"
     },
     "output_type": "display_data"
    }
   ],
   "source": [
    "sns.boxplot(x='age', data = dataset)\n",
    "plt.title(\"Box Plot of Age\")"
   ]
  },
  {
   "cell_type": "code",
   "execution_count": 115,
   "id": "89fc5d6f",
   "metadata": {},
   "outputs": [
    {
     "ename": "NameError",
     "evalue": "name 'transmission' is not defined",
     "output_type": "error",
     "traceback": [
      "\u001b[1;31m---------------------------------------------------------------------------\u001b[0m",
      "\u001b[1;31mNameError\u001b[0m                                 Traceback (most recent call last)",
      "Input \u001b[1;32mIn [115]\u001b[0m, in \u001b[0;36m<cell line: 3>\u001b[1;34m()\u001b[0m\n\u001b[0;32m      1\u001b[0m sns\u001b[38;5;241m.\u001b[39mboxplot(x\u001b[38;5;241m=\u001b[39m\u001b[38;5;124m\"\u001b[39m\u001b[38;5;124mtransmission\u001b[39m\u001b[38;5;124m\"\u001b[39m, y\u001b[38;5;241m=\u001b[39m\u001b[38;5;124m\"\u001b[39m\u001b[38;5;124mprice\u001b[39m\u001b[38;5;124m\"\u001b[39m, data\u001b[38;5;241m=\u001b[39mdataset)\n\u001b[0;32m      2\u001b[0m plt\u001b[38;5;241m.\u001b[39mtitle(\u001b[38;5;124m\"\u001b[39m\u001b[38;5;124mBox Plot of Transmission vs Price\u001b[39m\u001b[38;5;124m\"\u001b[39m)\n\u001b[1;32m----> 3\u001b[0m \u001b[38;5;28mprint\u001b[39m(\u001b[38;5;124m\"\u001b[39m\u001b[38;5;124mx ->\u001b[39m\u001b[38;5;124m\"\u001b[39m,\u001b[43mtransmission\u001b[49m\u001b[38;5;241m.\u001b[39mshape)\n\u001b[0;32m      4\u001b[0m \u001b[38;5;28mprint\u001b[39m(\u001b[38;5;124m\"\u001b[39m\u001b[38;5;124my ->\u001b[39m\u001b[38;5;124m\"\u001b[39m,price\u001b[38;5;241m.\u001b[39mshape)\n",
      "\u001b[1;31mNameError\u001b[0m: name 'transmission' is not defined"
     ]
    },
    {
     "data": {
      "image/png": "[encoded data removed]",
      "text/plain": [
       "<Figure size 432x288 with 1 Axes>"
      ]
     },
     "metadata": {
      "needs_background": "light"
     },
     "output_type": "display_data"
    }
   ],
   "source": [
    "sns.boxplot(x=\"transmission\", y=\"price\", data=dataset)\n",
    "plt.title(\"Box Plot of Transmission vs Price\")\n",
    "print(\"x ->\",transmission.shape)\n",
    "print(\"y ->\",price.shape)\n",
    "\n"
   ]
  },
  {
   "cell_type": "code",
   "execution_count": 78,
   "id": "c8387833",
   "metadata": {},
   "outputs": [
    {
     "data": {
      "text/plain": [
       "Text(0.5, 1.0, 'Box Plot of Engine vs Price')"
      ]
     },
     "execution_count": 78,
     "metadata": {},
     "output_type": "execute_result"
    },
    {
     "data": {
      "image/png": "[encoded data removed]",
      "text/plain": [
       "<Figure size 432x288 with 1 Axes>"
      ]
     },
     "metadata": {
      "needs_background": "light"
     },
     "output_type": "display_data"
    }
   ],
   "source": [
    "sns.boxplot(x=\"fuel\", y=\"price\", data=dataset)\n",
    "plt.title(\"Box Plot of Engine vs Price\")"
   ]
  },
  {
   "cell_type": "code",
   "execution_count": 80,
   "id": "ac97f13b",
   "metadata": {},
   "outputs": [
    {
     "data": {
      "text/html": [
       "<div>\n",
       "<style scoped>\n",
       "    .dataframe tbody tr th:only-of-type {\n",
       "        vertical-align: middle;\n",
       "    }\n",
       "\n",
       "    .dataframe tbody tr th {\n",
       "        vertical-align: top;\n",
       "    }\n",
       "\n",
       "    .dataframe thead th {\n",
       "        text-align: right;\n",
       "    }\n",
       "</style>\n",
       "<table border=\"1\" class=\"dataframe\">\n",
       "  <thead>\n",
       "    <tr style=\"text-align: right;\">\n",
       "      <th></th>\n",
       "      <th>mark</th>\n",
       "      <th>manufacturer</th>\n",
       "      <th>year</th>\n",
       "      <th>age</th>\n",
       "      <th>mileage</th>\n",
       "      <th>fuel</th>\n",
       "      <th>transmission</th>\n",
       "      <th>price</th>\n",
       "    </tr>\n",
       "  </thead>\n",
       "  <tbody>\n",
       "    <tr>\n",
       "      <th>0</th>\n",
       "      <td>nissan</td>\n",
       "      <td>nissan</td>\n",
       "      <td>2003</td>\n",
       "      <td>19</td>\n",
       "      <td>80000</td>\n",
       "      <td>gasoline</td>\n",
       "      <td>at</td>\n",
       "      <td>80</td>\n",
       "    </tr>\n",
       "    <tr>\n",
       "      <th>1</th>\n",
       "      <td>nissan</td>\n",
       "      <td>nissan</td>\n",
       "      <td>2010</td>\n",
       "      <td>12</td>\n",
       "      <td>53000</td>\n",
       "      <td>gasoline</td>\n",
       "      <td>at</td>\n",
       "      <td>110</td>\n",
       "    </tr>\n",
       "    <tr>\n",
       "      <th>2</th>\n",
       "      <td>nissan</td>\n",
       "      <td>nissan</td>\n",
       "      <td>2005</td>\n",
       "      <td>17</td>\n",
       "      <td>47690</td>\n",
       "      <td>gasoline</td>\n",
       "      <td>at</td>\n",
       "      <td>165</td>\n",
       "    </tr>\n",
       "    <tr>\n",
       "      <th>3</th>\n",
       "      <td>toyota</td>\n",
       "      <td>toyota</td>\n",
       "      <td>2008</td>\n",
       "      <td>14</td>\n",
       "      <td>130661</td>\n",
       "      <td>gasoline</td>\n",
       "      <td>at</td>\n",
       "      <td>190</td>\n",
       "    </tr>\n",
       "    <tr>\n",
       "      <th>4</th>\n",
       "      <td>daihatsu</td>\n",
       "      <td>daihatsu</td>\n",
       "      <td>2006</td>\n",
       "      <td>16</td>\n",
       "      <td>66300</td>\n",
       "      <td>gasoline</td>\n",
       "      <td>at</td>\n",
       "      <td>190</td>\n",
       "    </tr>\n",
       "  </tbody>\n",
       "</table>\n",
       "</div>"
      ],
      "text/plain": [
       "       mark manufacturer  year  age  mileage      fuel transmission  price\n",
       "0    nissan       nissan  2003   19    80000  gasoline           at     80\n",
       "1    nissan       nissan  2010   12    53000  gasoline           at    110\n",
       "2    nissan       nissan  2005   17    47690  gasoline           at    165\n",
       "3    toyota       toyota  2008   14   130661  gasoline           at    190\n",
       "4  daihatsu     daihatsu  2006   16    66300  gasoline           at    190"
      ]
     },
     "execution_count": 80,
     "metadata": {},
     "output_type": "execute_result"
    }
   ],
   "source": [
    "dataset.head()"
   ]
  },
  {
   "cell_type": "code",
   "execution_count": 86,
   "id": "9690ede8",
   "metadata": {},
   "outputs": [],
   "source": [
    "#drop the name and year columns because it is irrelevant in our model building\n",
    "data = dataset.drop(['manufacturer', 'year'], axis=1)"
   ]
  },
  {
   "cell_type": "code",
   "execution_count": 95,
   "id": "b5706960",
   "metadata": {},
   "outputs": [
    {
     "data": {
      "text/html": [
       "<div>\n",
       "<style scoped>\n",
       "    .dataframe tbody tr th:only-of-type {\n",
       "        vertical-align: middle;\n",
       "    }\n",
       "\n",
       "    .dataframe tbody tr th {\n",
       "        vertical-align: top;\n",
       "    }\n",
       "\n",
       "    .dataframe thead th {\n",
       "        text-align: right;\n",
       "    }\n",
       "</style>\n",
       "<table border=\"1\" class=\"dataframe\">\n",
       "  <thead>\n",
       "    <tr style=\"text-align: right;\">\n",
       "      <th></th>\n",
       "      <th>mark</th>\n",
       "      <th>manufacturer</th>\n",
       "      <th>year</th>\n",
       "      <th>age</th>\n",
       "      <th>mileage</th>\n",
       "      <th>fuel</th>\n",
       "      <th>transmission</th>\n",
       "      <th>price</th>\n",
       "    </tr>\n",
       "  </thead>\n",
       "  <tbody>\n",
       "    <tr>\n",
       "      <th>0</th>\n",
       "      <td>nissan</td>\n",
       "      <td>nissan</td>\n",
       "      <td>2003</td>\n",
       "      <td>19</td>\n",
       "      <td>80000</td>\n",
       "      <td>gasoline</td>\n",
       "      <td>at</td>\n",
       "      <td>80</td>\n",
       "    </tr>\n",
       "    <tr>\n",
       "      <th>1</th>\n",
       "      <td>nissan</td>\n",
       "      <td>nissan</td>\n",
       "      <td>2010</td>\n",
       "      <td>12</td>\n",
       "      <td>53000</td>\n",
       "      <td>gasoline</td>\n",
       "      <td>at</td>\n",
       "      <td>110</td>\n",
       "    </tr>\n",
       "    <tr>\n",
       "      <th>2</th>\n",
       "      <td>nissan</td>\n",
       "      <td>nissan</td>\n",
       "      <td>2005</td>\n",
       "      <td>17</td>\n",
       "      <td>47690</td>\n",
       "      <td>gasoline</td>\n",
       "      <td>at</td>\n",
       "      <td>165</td>\n",
       "    </tr>\n",
       "    <tr>\n",
       "      <th>3</th>\n",
       "      <td>toyota</td>\n",
       "      <td>toyota</td>\n",
       "      <td>2008</td>\n",
       "      <td>14</td>\n",
       "      <td>130661</td>\n",
       "      <td>gasoline</td>\n",
       "      <td>at</td>\n",
       "      <td>190</td>\n",
       "    </tr>\n",
       "    <tr>\n",
       "      <th>4</th>\n",
       "      <td>daihatsu</td>\n",
       "      <td>daihatsu</td>\n",
       "      <td>2006</td>\n",
       "      <td>16</td>\n",
       "      <td>66300</td>\n",
       "      <td>gasoline</td>\n",
       "      <td>at</td>\n",
       "      <td>190</td>\n",
       "    </tr>\n",
       "  </tbody>\n",
       "</table>\n",
       "</div>"
      ],
      "text/plain": [
       "       mark manufacturer  year  age  mileage      fuel transmission  price\n",
       "0    nissan       nissan  2003   19    80000  gasoline           at     80\n",
       "1    nissan       nissan  2010   12    53000  gasoline           at    110\n",
       "2    nissan       nissan  2005   17    47690  gasoline           at    165\n",
       "3    toyota       toyota  2008   14   130661  gasoline           at    190\n",
       "4  daihatsu     daihatsu  2006   16    66300  gasoline           at    190"
      ]
     },
     "execution_count": 95,
     "metadata": {},
     "output_type": "execute_result"
    }
   ],
   "source": [
    "dataset.head()"
   ]
  },
  {
   "cell_type": "code",
   "execution_count": 96,
   "id": "b92d6fa2",
   "metadata": {},
   "outputs": [
    {
     "data": {
      "text/plain": [
       "array(['nissan', 'toyota', 'daihatsu', 'volkswagen', 'mazda', 'honda',\n",
       "       'subaru', 'mercedes-benz', 'kubota', 'mitsubishi', 'suzuki', 'bmw',\n",
       "       'chrysler', 'smart', 'gm', 'opel', 'isuzu', 'land', 'peugeot',\n",
       "       'hyundai', 'kia', 'audi', 'citroen', 'mitsuoka', 'volvo', 'ford',\n",
       "       'hino', 'jaguar'], dtype=object)"
      ]
     },
     "execution_count": 96,
     "metadata": {},
     "output_type": "execute_result"
    }
   ],
   "source": [
    "dataset['manufacturer'].unique()"
   ]
  },
  {
   "cell_type": "code",
   "execution_count": 129,
   "id": "4ee7c387",
   "metadata": {},
   "outputs": [
    {
     "ename": "NameError",
     "evalue": "name 'x_train' is not defined",
     "output_type": "error",
     "traceback": [
      "\u001b[1;31m---------------------------------------------------------------------------\u001b[0m",
      "\u001b[1;31mNameError\u001b[0m                                 Traceback (most recent call last)",
      "Input \u001b[1;32mIn [129]\u001b[0m, in \u001b[0;36m<cell line: 3>\u001b[1;34m()\u001b[0m\n\u001b[0;32m      1\u001b[0m \u001b[38;5;28;01mfrom\u001b[39;00m \u001b[38;5;21;01msklearn\u001b[39;00m\u001b[38;5;21;01m.\u001b[39;00m\u001b[38;5;21;01mlinear_model\u001b[39;00m \u001b[38;5;28;01mimport\u001b[39;00m LinearRegression\n\u001b[0;32m      2\u001b[0m reg\u001b[38;5;241m=\u001b[39mLinearRegression()\n\u001b[1;32m----> 3\u001b[0m reg\u001b[38;5;241m.\u001b[39mfit(\u001b[43mx_train\u001b[49m,y_train)\n",
      "\u001b[1;31mNameError\u001b[0m: name 'x_train' is not defined"
     ]
    }
   ],
   "source": [
    "from sklearn.linear_model import LinearRegression\n",
    "reg=LinearRegression()\n",
    "reg.fit(x_train,y_train)"
   ]
  },
  {
   "cell_type": "code",
   "execution_count": 128,
   "id": "5bb0d89b",
   "metadata": {},
   "outputs": [
    {
     "ename": "NameError",
     "evalue": "name 'x_train' is not defined",
     "output_type": "error",
     "traceback": [
      "\u001b[1;31m---------------------------------------------------------------------------\u001b[0m",
      "\u001b[1;31mNameError\u001b[0m                                 Traceback (most recent call last)",
      "Input \u001b[1;32mIn [128]\u001b[0m, in \u001b[0;36m<cell line: 2>\u001b[1;34m()\u001b[0m\n\u001b[0;32m      1\u001b[0m \u001b[38;5;28;01mfrom\u001b[39;00m \u001b[38;5;21;01msklearn\u001b[39;00m\u001b[38;5;21;01m.\u001b[39;00m\u001b[38;5;21;01mmodel_selection\u001b[39;00m \u001b[38;5;28;01mimport\u001b[39;00m train_test_split\n\u001b[1;32m----> 2\u001b[0m x_train,x_test,y_train,y_test\u001b[38;5;241m=\u001b[39mtrain_test_split(\u001b[43mx_train\u001b[49m,y_train,test_size\u001b[38;5;241m=\u001b[39m\u001b[38;5;241m0.3\u001b[39m) \n\u001b[0;32m      3\u001b[0m \u001b[38;5;28mprint\u001b[39m(\u001b[38;5;124m\"\u001b[39m\u001b[38;5;124mx_train->\u001b[39m\u001b[38;5;124m\"\u001b[39m,x_train\u001b[38;5;241m.\u001b[39mshape)\n\u001b[0;32m      4\u001b[0m \u001b[38;5;28mprint\u001b[39m(\u001b[38;5;124m\"\u001b[39m\u001b[38;5;124mx_test->\u001b[39m\u001b[38;5;124m\"\u001b[39m,x_test\u001b[38;5;241m.\u001b[39mshape)\n",
      "\u001b[1;31mNameError\u001b[0m: name 'x_train' is not defined"
     ]
    }
   ],
   "source": [
    "from sklearn.model_selection import train_test_split\n",
    "x_train,x_test,y_train,y_test=train_test_split(x_train,y_train,test_size=0.3) \n",
    "print(\"x_train->\",x_train.shape)\n",
    "print(\"x_test->\",x_test.shape)"
   ]
  },
  {
   "cell_type": "code",
   "execution_count": null,
   "id": "e9e1f01c",
   "metadata": {},
   "outputs": [],
   "source": [
    "reg.predict(xtest) "
   ]
  },
  {
   "cell_type": "code",
   "execution_count": null,
   "id": "a3e3a045",
   "metadata": {},
   "outputs": [],
   "source": [
    "ytest"
   ]
  },
  {
   "cell_type": "code",
   "execution_count": null,
   "id": "13b336a8",
   "metadata": {},
   "outputs": [],
   "source": [
    "\n",
    "reg.score(xtest,ytest)"
   ]
  },
  {
   "cell_type": "code",
   "execution_count": 126,
   "id": "7e3e174b",
   "metadata": {},
   "outputs": [
    {
     "ename": "NameError",
     "evalue": "name 'x_train' is not defined",
     "output_type": "error",
     "traceback": [
      "\u001b[1;31m---------------------------------------------------------------------------\u001b[0m",
      "\u001b[1;31mNameError\u001b[0m                                 Traceback (most recent call last)",
      "Input \u001b[1;32mIn [126]\u001b[0m, in \u001b[0;36m<cell line: 3>\u001b[1;34m()\u001b[0m\n\u001b[0;32m      1\u001b[0m \u001b[38;5;28;01mfrom\u001b[39;00m \u001b[38;5;21;01msklearn\u001b[39;00m\u001b[38;5;21;01m.\u001b[39;00m\u001b[38;5;21;01mlinear_model\u001b[39;00m \u001b[38;5;28;01mimport\u001b[39;00m LinearRegression\n\u001b[0;32m      2\u001b[0m reg\u001b[38;5;241m=\u001b[39mLinearRegression()\n\u001b[1;32m----> 3\u001b[0m reg\u001b[38;5;241m.\u001b[39mfit(\u001b[43mx_train\u001b[49m,y_train)\n",
      "\u001b[1;31mNameError\u001b[0m: name 'x_train' is not defined"
     ]
    }
   ],
   "source": [
    "from sklearn.linear_model import LinearRegression\n",
    "reg=LinearRegression()\n",
    "reg.fit(x_train,y_train)"
   ]
  },
  {
   "cell_type": "code",
   "execution_count": null,
   "id": "8400f1ad",
   "metadata": {},
   "outputs": [],
   "source": []
  },
  {
   "cell_type": "code",
   "execution_count": null,
   "id": "e216267a",
   "metadata": {},
   "outputs": [],
   "source": [
    "\n"
   ]
  },
  {
   "cell_type": "code",
   "execution_count": 118,
   "id": "688ff715",
   "metadata": {},
   "outputs": [],
   "source": [
    "# creating X and y variables\n",
    "X = data.drop('price', axis=1)\n",
    "\n",
    "# log transform the price column\n",
    "y = np.log(data['price'])\n"
   ]
  },
  {
   "cell_type": "code",
   "execution_count": 119,
   "id": "0215e586",
   "metadata": {},
   "outputs": [],
   "source": [
    "#train test split\n",
    "X_train, X_test, y_train, y_test = train_test_split(X, y, test_size=0.3, random_state=42)"
   ]
  },
  {
   "cell_type": "code",
   "execution_count": 123,
   "id": "517d223c",
   "metadata": {},
   "outputs": [
    {
     "ename": "NameError",
     "evalue": "name 'x_train' is not defined",
     "output_type": "error",
     "traceback": [
      "\u001b[1;31m---------------------------------------------------------------------------\u001b[0m",
      "\u001b[1;31mNameError\u001b[0m                                 Traceback (most recent call last)",
      "Input \u001b[1;32mIn [123]\u001b[0m, in \u001b[0;36m<cell line: 2>\u001b[1;34m()\u001b[0m\n\u001b[0;32m      1\u001b[0m X_train\u001b[38;5;241m.\u001b[39mshape, X_test\u001b[38;5;241m.\u001b[39mshape, y_train\u001b[38;5;241m.\u001b[39mshape, y_test\u001b[38;5;241m.\u001b[39mshape\n\u001b[1;32m----> 2\u001b[0m \u001b[38;5;28mprint\u001b[39m(\u001b[38;5;124m\"\u001b[39m\u001b[38;5;124mx_train->\u001b[39m\u001b[38;5;124m\"\u001b[39m,\u001b[43mx_train\u001b[49m\u001b[38;5;241m.\u001b[39mshape)\n\u001b[0;32m      3\u001b[0m \u001b[38;5;28mprint\u001b[39m(\u001b[38;5;124m\"\u001b[39m\u001b[38;5;124mx_test->\u001b[39m\u001b[38;5;124m\"\u001b[39m,x_test\u001b[38;5;241m.\u001b[39mshape)\n",
      "\u001b[1;31mNameError\u001b[0m: name 'x_train' is not defined"
     ]
    }
   ],
   "source": [
    "X_train.shape, X_test.shape, y_train.shape, y_test.shape\n",
    "#print(\"x_train->\",x_train.shape)\n",
    "#print(\"x_test->\",x_test.shape)"
   ]
  },
  {
   "cell_type": "code",
   "execution_count": 124,
   "id": "168a39be",
   "metadata": {},
   "outputs": [
    {
     "ename": "NameError",
     "evalue": "name 'x_train' is not defined",
     "output_type": "error",
     "traceback": [
      "\u001b[1;31m---------------------------------------------------------------------------\u001b[0m",
      "\u001b[1;31mNameError\u001b[0m                                 Traceback (most recent call last)",
      "Input \u001b[1;32mIn [124]\u001b[0m, in \u001b[0;36m<cell line: 3>\u001b[1;34m()\u001b[0m\n\u001b[0;32m      1\u001b[0m \u001b[38;5;28;01mfrom\u001b[39;00m \u001b[38;5;21;01msklearn\u001b[39;00m\u001b[38;5;21;01m.\u001b[39;00m\u001b[38;5;21;01mlinear_model\u001b[39;00m \u001b[38;5;28;01mimport\u001b[39;00m LinearRegression\n\u001b[0;32m      2\u001b[0m reg\u001b[38;5;241m=\u001b[39mLinearRegression()\n\u001b[1;32m----> 3\u001b[0m reg\u001b[38;5;241m.\u001b[39mfit(\u001b[43mx_train\u001b[49m,y_train)\n",
      "\u001b[1;31mNameError\u001b[0m: name 'x_train' is not defined"
     ]
    }
   ],
   "source": [
    "from sklearn.linear_model import LinearRegression\n",
    "reg=LinearRegression()\n",
    "reg.fit(x_train,y_train)"
   ]
  },
  {
   "cell_type": "markdown",
   "id": "fd234819",
   "metadata": {},
   "source": []
  },
  {
   "cell_type": "code",
   "execution_count": null,
   "id": "e645b13d",
   "metadata": {},
   "outputs": [],
   "source": [
    "\n"
   ]
  },
  {
   "cell_type": "markdown",
   "id": "21d709e0",
   "metadata": {},
   "source": []
  },
  {
   "cell_type": "code",
   "execution_count": null,
   "id": "58e372f0",
   "metadata": {},
   "outputs": [],
   "source": []
  },
  {
   "cell_type": "code",
   "execution_count": null,
   "id": "1b519e13",
   "metadata": {},
   "outputs": [],
   "source": []
  }
 ],
 "metadata": {
  "kernelspec": {
   "display_name": "Python 3 (ipykernel)",
   "language": "python",
   "name": "python3"
  },
  "language_info": {
   "codemirror_mode": {
    "name": "ipython",
    "version": 3
   },
   "file_extension": ".py",
   "mimetype": "text/x-python",
   "name": "python",
   "nbconvert_exporter": "python",
   "pygments_lexer": "ipython3",
   "version": "3.9.12"
  }
 },
 "nbformat": 4,
 "nbformat_minor": 5
}
